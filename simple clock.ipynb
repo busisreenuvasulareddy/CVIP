{
 "cells": [
  {
   "cell_type": "code",
   "execution_count": 2,
   "metadata": {},
   "outputs": [
    {
     "name": "stdout",
     "output_type": "stream",
     "text": [
      "11:11:27"
     ]
    }
   ],
   "source": [
    "import time\n",
    "\n",
    "def simple_clock():\n",
    "    while True:\n",
    "        # Get current time\n",
    "        current_time = time.strftime('%H:%M:%S')\n",
    "        \n",
    "        # Print current time\n",
    "        print(\"\\r\" + current_time, end=\"\", flush=True)\n",
    "        \n",
    "        # Wait for one second\n",
    "        time.sleep(1)\n",
    "\n",
    "if __name__ == \"__main__\":\n",
    "    simple_clock()\n"
   ]
  },
  {
   "cell_type": "code",
   "execution_count": null,
   "metadata": {},
   "outputs": [],
   "source": []
  },
  {
   "cell_type": "code",
   "execution_count": null,
   "metadata": {},
   "outputs": [],
   "source": []
  }
 ],
 "metadata": {
  "kernelspec": {
   "display_name": "Python 3",
   "language": "python",
   "name": "python3"
  },
  "language_info": {
   "codemirror_mode": {
    "name": "ipython",
    "version": 3
   },
   "file_extension": ".py",
   "mimetype": "text/x-python",
   "name": "python",
   "nbconvert_exporter": "python",
   "pygments_lexer": "ipython3",
   "version": "3.11.4"
  }
 },
 "nbformat": 4,
 "nbformat_minor": 2
}
